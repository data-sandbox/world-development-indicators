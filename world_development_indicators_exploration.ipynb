{
 "cells": [
  {
   "cell_type": "markdown",
   "id": "79ca945b",
   "metadata": {},
   "source": [
    "# Introduction\n",
    "\n",
    "The World Development Indicators dataset from the World Bank looks at over a thousand economic development indicators for hundreds of countries across the world. Let's jump in and look at some exploratory data analysis.\n",
    "\n",
    "Source: https://www.kaggle.com/datasets/kaggle/world-development-indicators?select=Country.csv"
   ]
  },
  {
   "cell_type": "code",
   "execution_count": 1,
   "id": "7f379bce",
   "metadata": {},
   "outputs": [],
   "source": [
    "import pandas as pd\n",
    "import numpy as np\n",
    "import matplotlib.pyplot as plt\n",
    "import seaborn as sns"
   ]
  },
  {
   "cell_type": "code",
   "execution_count": 6,
   "id": "36137e75",
   "metadata": {},
   "outputs": [
    {
     "data": {
      "text/plain": [
       "(5656458, 6)"
      ]
     },
     "execution_count": 6,
     "metadata": {},
     "output_type": "execute_result"
    }
   ],
   "source": [
    "# read the data into a dataframe\n",
    "data = pd.read_csv('./data/Indicators.csv')\n",
    "# how large is this dataset?\n",
    "data.shape"
   ]
  },
  {
   "cell_type": "code",
   "execution_count": 7,
   "id": "37f81473",
   "metadata": {},
   "outputs": [],
   "source": [
    "# let's explore the countries and indicators\n",
    "countries = data['CountryName'].unique().tolist()\n",
    "indicators = data['IndicatorName'].unique().tolist()"
   ]
  },
  {
   "cell_type": "code",
   "execution_count": 9,
   "id": "282869b8",
   "metadata": {},
   "outputs": [
    {
     "ename": "AttributeError",
     "evalue": "'list' object has no attribute 'head'",
     "output_type": "error",
     "traceback": [
      "\u001b[0;31m---------------------------------------------------------------------------\u001b[0m",
      "\u001b[0;31mAttributeError\u001b[0m                            Traceback (most recent call last)",
      "\u001b[0;32m/var/folders/df/lbb8b9jn7hx1qzf3rh63g82w0000gq/T/ipykernel_10810/2298653033.py\u001b[0m in \u001b[0;36m<module>\u001b[0;34m\u001b[0m\n\u001b[0;32m----> 1\u001b[0;31m \u001b[0mindicators\u001b[0m\u001b[0;34m.\u001b[0m\u001b[0mhead\u001b[0m\u001b[0;34m(\u001b[0m\u001b[0;34m)\u001b[0m\u001b[0;34m\u001b[0m\u001b[0;34m\u001b[0m\u001b[0m\n\u001b[0m",
      "\u001b[0;31mAttributeError\u001b[0m: 'list' object has no attribute 'head'"
     ]
    }
   ],
   "source": [
    "indicators.head()"
   ]
  },
  {
   "cell_type": "code",
   "execution_count": null,
   "id": "a7fbc8b5",
   "metadata": {},
   "outputs": [],
   "source": []
  }
 ],
 "metadata": {
  "kernelspec": {
   "display_name": "Python 3 (ipykernel)",
   "language": "python",
   "name": "python3"
  },
  "language_info": {
   "codemirror_mode": {
    "name": "ipython",
    "version": 3
   },
   "file_extension": ".py",
   "mimetype": "text/x-python",
   "name": "python",
   "nbconvert_exporter": "python",
   "pygments_lexer": "ipython3",
   "version": "3.9.7"
  }
 },
 "nbformat": 4,
 "nbformat_minor": 5
}
